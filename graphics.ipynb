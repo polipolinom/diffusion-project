{
 "cells": [
  {
   "cell_type": "code",
   "execution_count": null,
   "metadata": {
    "execution": {
     "iopub.execute_input": "2024-12-21T00:31:57.178046Z",
     "iopub.status.busy": "2024-12-21T00:31:57.177698Z",
     "iopub.status.idle": "2024-12-21T00:31:57.491202Z",
     "shell.execute_reply": "2024-12-21T00:31:57.490149Z",
     "shell.execute_reply.started": "2024-12-21T00:31:57.178017Z"
    },
    "trusted": true
   },
   "outputs": [],
   "source": [
    "!git clone https://github.com/NVlabs/edm\n",
    "!cp ../input/diffusion-2/fid.py edm/fid.py\n",
    "%cd edm\n",
    "from fid import calculate_inception_stats, calculate_fid_from_inception_stats\n",
    "from dnnlib.util import open_url\n",
    "%cd ..\n",
    "\n",
    "def calc_fid(image_path, ref_path, num_expected, batch):\n",
    "    mu, sigma = calculate_inception_stats(image_path=image_path, num_expected=num_expected, max_batch_size=batch)\n",
    "    mu_ref, sigma_ref = calculate_inception_stats(image_path=ref_path, num_expected=num_expected, max_batch_size=batch)\n",
    "    print(mu, sigma, mu_ref, sigma_ref)\n",
    "    fid = calculate_fid_from_inception_stats(mu, sigma, mu_ref, sigma_ref)\n",
    "    return fid"
   ]
  },
  {
   "cell_type": "code",
   "execution_count": 48,
   "metadata": {
    "execution": {
     "iopub.execute_input": "2024-12-21T01:13:12.284636Z",
     "iopub.status.busy": "2024-12-21T01:13:12.284046Z",
     "iopub.status.idle": "2024-12-21T01:13:12.301976Z",
     "shell.execute_reply": "2024-12-21T01:13:12.301100Z",
     "shell.execute_reply.started": "2024-12-21T01:13:12.284602Z"
    },
    "trusted": true
   },
   "outputs": [],
   "source": [
    "def plot_scheduling():\n",
    "    t = np.linspace(0, 1, 200) \n",
    "    beta_t = np.piecewise(t, [t <= 0.5, t > 0.5], [lambda t: 2.4e-4 * t, lambda t: 2.4e-4 * (1 - t)]) \n",
    "     \n",
    "    plt.figure(figsize=(4, 3)) \n",
    "    plt.plot(t, beta_t, color='blue') \n",
    "     \n",
    "    plt.xlabel(\"time $t$\") \n",
    "    plt.title(\"$\\\\beta_t$\") \n",
    "    plt.ticklabel_format(axis='y', style='sci', scilimits=(0, 0), useMathText=True) \n",
    "    plt.gca().yaxis.get_offset_text().set_position((-0.1, 0)) \n",
    "\n",
    "    plt.xticks([0, 0.5, 1]) \n",
    "    plt.yticks([0.6 * 1e-4, 1.2 * 1e-4])\n",
    "     \n",
    "    plt.grid(alpha=0.5) \n",
    "    plt.tight_layout() \n",
    "    plt.savefig(\"beta-scheduling.pdf\", bbox_inches='tight')\n",
    "    plt.show()\n",
    "\n",
    "def plot_sigmas(): # TO DO\n",
    "    t = np.linspace(0, 1, 200) \n",
    "    beta_t = np.piecewise(t, [True], [lambda t: 2.4e-4 * t, lambda t: 2.4e-4 * (1 - t)]) \n",
    "     \n",
    "    plt.figure(figsize=(4, 3)) \n",
    "    plt.plot(t, beta_t, color='blue') \n",
    "     \n",
    "    plt.xlabel(\"time $t$\") \n",
    "    plt.title(\"$\\\\beta_t$\") \n",
    "    plt.ticklabel_format(axis='y', style='sci', scilimits=(0, 0), useMathText=True) \n",
    "    plt.gca().yaxis.get_offset_text().set_position((-0.1, 0)) \n",
    "\n",
    "    plt.xticks([0, 0.5, 1]) \n",
    "    plt.yticks([0.6 * 1e-4, 1.2 * 1e-4])\n",
    "     \n",
    "    plt.grid(alpha=0.5) \n",
    "    plt.tight_layout() \n",
    "    plt.savefig(\"beta-scheduling.pdf\")\n",
    "    plt.show()\n",
    "\n",
    "def plot_pixel_1d(model, batch, channel, x, y):\n",
    "    _, trajectory = model.sampling(batch.to(model.device), np.arange(0, model.num_steps, 1))\n",
    "    pixel_trajectories = torch.stack(trajectory)[:,:,channel,x,y].cpu()\n",
    "    colors = plt.cm.viridis(np.linspace(0, 1, pixel_trajectories.shape[1]))\n",
    "    \n",
    "    # Plot each object's trajectory\n",
    "    plt.figure(figsize=(10, 6))\n",
    "    for obj in range(pixel_trajectories.shape[1]):\n",
    "        plt.plot(pixel_trajectories[:, obj],  color=colors[obj], linewidth=2, linestyle='-')\n",
    "    \n",
    "    plt.xlabel('Time', fontsize=14)\n",
    "    plt.ylabel('Blue channel', fontsize=14)\n",
    "    plt.title('Trajectories of pixels by 1 channel', fontsize=16, fontweight='bold')\n",
    "    plt.grid(alpha=0.5)\n",
    "\n",
    "    plt.tight_layout()\n",
    "    plt.savefig(\"pixel-trajectories-1d-blur-mnist.pdf\", bbox_inches='tight')\n",
    "    plt.show()\n",
    "\n",
    "def plot_pixel_2d(model, batch, channel1, channel2, x, y):\n",
    "    _, trajectory = model.sampling(batch.to(model.device), np.arange(0, model.num_steps, 1))\n",
    "    pixel_trajectories1 = torch.stack(trajectory)[:,:,channel1,x,y].cpu()\n",
    "    pixel_trajectories2 = torch.stack(trajectory)[:,:,channel2,x,y].cpu()\n",
    "    colors = plt.cm.viridis(np.linspace(0, 1, pixel_trajectories1.shape[1]))\n",
    "    \n",
    "    # Plot each object's trajectory\n",
    "    fig = plt.figure(figsize=(10, 6))\n",
    "    ax = fig.add_subplot(111, projection='3d')\n",
    "    \n",
    "    for obj in range(pixel_trajectories1.shape[1]):\n",
    "        ax.plot(pixel_trajectories1[:, obj], pixel_trajectories2[:, obj], np.arange(model.num_steps), color=colors[obj], linewidth=2, linestyle='-')\n",
    "\n",
    "    ax.set_xlabel('Green channel', fontsize=14)\n",
    "    ax.set_ylabel('Red channel', fontsize=14)\n",
    "    ax.set_zlabel('Time', fontsize=14, rotation=90)\n",
    "    ax.set_title('Trajectories of pixels by 2 channels', fontsize=16, fontweight='bold')\n",
    "    ax.set_box_aspect(None, zoom=0.93)\n",
    "    plt.tight_layout()\n",
    "    plt.savefig(\"pixel-trajectories-2d-blur-mnist.pdf\", bbox_inches='tight')\n",
    "    plt.show()\n",
    "\n",
    "def calc_l2(model, dataloader, num_batches, steps, stochastic):\n",
    "    count = 0\n",
    "    lerror = 0\n",
    "    model.stochastic = stochastic\n",
    "    print(steps)\n",
    "    \n",
    "    for batch in dataloader:\n",
    "        count += 1\n",
    "        x0 = (batch[0] * 2 - 1).to(model.device)\n",
    "        batch_normed = model.corruption(x0).to(model.device)\n",
    "        samples, trajes = model.sampling(batch_normed, steps)\n",
    "        print(len(trajes))\n",
    "        lerror += torch.mean(torch.square(x0 - samples))\n",
    "        visualize_batch(batch[0][0:10])\n",
    "        visualize_batch(batch_normed[0:10].cpu() * 0.5 + 0.5)\n",
    "        visualize_batch(samples[0:10].cpu() * 0.5 + 0.5)\n",
    "\n",
    "        if count >= num_batches:\n",
    "            break\n",
    "\n",
    "    return lerror / count\n",
    "        \n",
    "\n",
    "def plot_l2(model, errors, steps):  \n",
    "    ind = 0\n",
    "\n",
    "    plt.figure(figsize=(10, 6))\n",
    "    plt.plot(steps, errors[0], label=\"Non-stochastic sampling\", marker=\"o\", linestyle=\"-\", linewidth=1.5, markersize=4)\n",
    "    plt.plot(steps, errors[1], label=\"Stochastic sampling\", marker=\"s\", linestyle=\"--\", linewidth=1.5, markersize=4)\n",
    "    \n",
    "    # Beautify the plot\n",
    "    plt.title(\"L2 Errors vs Iterations\", fontsize=16)\n",
    "    plt.xlabel(\"Number of Iterations\", fontsize=14)\n",
    "    plt.ylabel(\"L2 Error\", fontsize=14)\n",
    "    plt.grid(True, linestyle=\"--\", alpha=0.6)\n",
    "    plt.legend(fontsize=12)\n",
    "    plt.tight_layout()\n",
    "    plt.savefig(\"l2-error-blur-mnist.pdf\", bbox_inches='tight')\n",
    "    plt.show()"
   ]
  },
  {
   "cell_type": "code",
   "execution_count": 31,
   "metadata": {
    "execution": {
     "iopub.execute_input": "2024-12-20T23:42:33.925942Z",
     "iopub.status.busy": "2024-12-20T23:42:33.925718Z",
     "iopub.status.idle": "2024-12-20T23:42:33.939650Z",
     "shell.execute_reply": "2024-12-20T23:42:33.938842Z",
     "shell.execute_reply.started": "2024-12-20T23:42:33.925922Z"
    },
    "trusted": true
   },
   "outputs": [],
   "source": [
    "steps = [2, 5, 10, 15, 20, 30, 40, 50, 60, 70, 100]\n",
    "errors = np.zeros(shape=(2, len(steps)))\n",
    "num_batches = 4"
   ]
  },
  {
   "cell_type": "code",
   "execution_count": null,
   "metadata": {
    "execution": {
     "iopub.execute_input": "2024-12-21T01:41:13.506929Z",
     "iopub.status.busy": "2024-12-21T01:41:13.506577Z",
     "iopub.status.idle": "2024-12-21T01:41:22.197708Z",
     "shell.execute_reply": "2024-12-21T01:41:22.196870Z",
     "shell.execute_reply.started": "2024-12-21T01:41:13.506896Z"
    },
    "trusted": true
   },
   "outputs": [],
   "source": [
    "#print(errors)\n",
    "#plot_l2(model, errors, steps)\n",
    "#plot_pixel_2d(model, model.corruption(batch[0][:40] * 2 - 1), 0, 1, 30, 30)\n",
    "#plot_pixel_1d(model, model.corruption(batch[0][:40] * 2 - 1), 2, 30, 30)\n",
    "#batch = next(iter(train_dataloader))\n",
    "visualize_batch(batch[0][:10], title='target-images')\n",
    "visualize_batch(model.corruption(batch[0][:10]), title='blurred-images')\n",
    "sampled,_ = model.sampling(model.corruption(batch[0] * 2 - 1)[:10].to(model.device), np.arange(0, model.num_steps, 1))\n",
    "visualize_batch(sampled.cpu() * 0.5 + 0.5, title='sampled-images')\n",
    "#for i in range(10):\n",
    "smpl = model.corruption(batch[0] * 2 - 1)[8].to(model.device).unsqueeze(0)\n",
    "print(smpl.shape)\n",
    "print(smpl.repeat(10, 1, 1, 1).shape)\n",
    "sampled,_ = model.sampling(smpl.repeat(10, 1, 1, 1), np.arange(0, model.num_steps, 1))\n",
    "visualize_batch(sampled.cpu() * 0.5 + 0.5, title='stochastic-generation-twos')\n",
    "#plot_scheduling()"
   ]
  },
  {
   "cell_type": "code",
   "execution_count": 33,
   "metadata": {
    "execution": {
     "iopub.execute_input": "2024-12-20T23:42:45.515966Z",
     "iopub.status.busy": "2024-12-20T23:42:45.515637Z",
     "iopub.status.idle": "2024-12-20T23:42:45.519776Z",
     "shell.execute_reply": "2024-12-20T23:42:45.518954Z",
     "shell.execute_reply.started": "2024-12-20T23:42:45.515938Z"
    },
    "trusted": true
   },
   "outputs": [],
   "source": [
    "import os, shutil"
   ]
  },
  {
   "cell_type": "code",
   "execution_count": null,
   "metadata": {
    "execution": {
     "iopub.execute_input": "2024-12-20T23:49:50.340269Z",
     "iopub.status.busy": "2024-12-20T23:49:50.339920Z",
     "iopub.status.idle": "2024-12-21T00:02:40.929744Z",
     "shell.execute_reply": "2024-12-21T00:02:40.927787Z",
     "shell.execute_reply.started": "2024-12-20T23:49:50.340243Z"
    },
    "trusted": true
   },
   "outputs": [],
   "source": [
    "def save_model_samples(name, model, test_dataloader, apply_gen=True, **model_kwargs):\n",
    "    if os.path.exists(name):\n",
    "        shutil.rmtree(name)\n",
    "    os.makedirs(name, exist_ok=True)\n",
    "\n",
    "    count = 0\n",
    "    count_batches = 0\n",
    "    with tqdm(total=len(test_dataloader)) as pbar:\n",
    "        for batch in test_dataloader:\n",
    "            x0 = (batch[0] * 2 - 1).to(model.device)\n",
    "            if apply_gen:\n",
    "                x1 = model.corruption(x0)\n",
    "                out, trajectory = model.sampling(x1, np.arange(0, model.num_steps, 1))\n",
    "                out = (out * 127.5 + 128).clip(0, 255).to(torch.uint8).permute(0, 2, 3, 1).cpu().numpy()\n",
    "            else:\n",
    "                out = (x0 * 127.5 + 128).clip(0, 255).to(torch.uint8).permute(0, 2, 3, 1).cpu().numpy()\n",
    "            \n",
    "            for i in range(out.shape[0]):\n",
    "                img = Image.fromarray(out[i])\n",
    "                n_digits = len(str(count))\n",
    "                img_name = (6 - n_digits) * '0' + str(count) + '.png'\n",
    "                count += 1\n",
    "                img.save(os.path.join(name, img_name))\n",
    "            \n",
    "            pbar.update(1)\n",
    "            count_batches += 1\n",
    "            pbar.set_description('%d batches saved' % (count_batches,))\n",
    "\n",
    "#print(len(test_dataloader) * 128)\n",
    "#save_model_samples('mnist-samples', model, test_dataloader)\n",
    "#save_model_samples('mnist-train-data', model, test_dataloader, False)\n",
    "#fid = calc_fid('mnist-samples', \"../input/diffusion-2/cmnist_train.npz\", num_expected=10000, batch=256)\n",
    "#print('Модель имеет FID = %.4g' % (fid,))"
   ]
  },
  {
   "cell_type": "code",
   "execution_count": null,
   "metadata": {
    "execution": {
     "iopub.execute_input": "2024-12-21T00:32:02.749392Z",
     "iopub.status.busy": "2024-12-21T00:32:02.749039Z",
     "iopub.status.idle": "2024-12-21T00:33:46.383534Z",
     "shell.execute_reply": "2024-12-21T00:33:46.381826Z",
     "shell.execute_reply.started": "2024-12-21T00:32:02.749337Z"
    },
    "trusted": true
   },
   "outputs": [],
   "source": [
    "def save_model_samples_nonstoch(name, model, test_dataloader, apply_gen=True, **model_kwargs):\n",
    "    if os.path.exists(name):\n",
    "        shutil.rmtree(name)\n",
    "    os.makedirs(name, exist_ok=True)\n",
    "\n",
    "    count = 0\n",
    "    count_batches = 0\n",
    "    model.stochastic = False\n",
    "    with tqdm(total=len(test_dataloader)) as pbar:\n",
    "        for batch in test_dataloader:\n",
    "            x0 = (batch[0] * 2 - 1).to(model.device)\n",
    "            if apply_gen:\n",
    "                x1 = model.corruption(x0)\n",
    "                out, _ = model.sampling(x1, [0, 99])\n",
    "                out = (out * 127.5 + 128).clip(0, 255).to(torch.uint8).permute(0, 2, 3, 1).cpu().numpy()\n",
    "            else:\n",
    "                out = (x0 * 127.5 + 128).clip(0, 255).to(torch.uint8).permute(0, 2, 3, 1).cpu().numpy()\n",
    "            \n",
    "            for i in range(out.shape[0]):\n",
    "                img = Image.fromarray(out[i])\n",
    "                n_digits = len(str(count))\n",
    "                img_name = (6 - n_digits) * '0' + str(count) + '.png'\n",
    "                count += 1\n",
    "                img.save(os.path.join(name, img_name))\n",
    "            \n",
    "            pbar.update(1)\n",
    "            count_batches += 1\n",
    "            pbar.set_description('%d batches saved' % (count_batches,))\n",
    "\n",
    "print(len(test_dataloader) * 128)\n",
    "save_model_samples_nonstoch('mnist-samples-nonstoch', model, test_dataloader)\n",
    "save_model_samples('mnist-train-data', model, test_dataloader, False)\n",
    "fid = calc_fid('mnist-samples-nonstoch', \"mnist-train-data\", num_expected=10000, batch=256)\n",
    "print('Модель имеет FID = %.4g' % (fid,))\n",
    "model.stochastic = True"
   ]
  }
 ],
 "metadata": {
  "kaggle": {
   "accelerator": "nvidiaTeslaT4",
   "dataSources": [
    {
     "databundleVersionId": 10545634,
     "datasetId": 6060466,
     "sourceId": 10248969,
     "sourceType": "datasetVersion"
    },
    {
     "databundleVersionId": 10556483,
     "datasetId": 6331001,
     "sourceId": 10258539,
     "sourceType": "datasetVersion"
    },
    {
     "databundleVersionId": 1603745,
     "datasetId": 926989,
     "sourceId": 1568691,
     "sourceType": "datasetVersion"
    }
   ],
   "dockerImageVersionId": 30823,
   "isGpuEnabled": true,
   "isInternetEnabled": true,
   "language": "python",
   "sourceType": "notebook"
  },
  "kernelspec": {
   "display_name": "Python 3",
   "language": "python",
   "name": "python3"
  },
  "language_info": {
   "codemirror_mode": {
    "name": "ipython",
    "version": 3
   },
   "file_extension": ".py",
   "mimetype": "text/x-python",
   "name": "python",
   "nbconvert_exporter": "python",
   "pygments_lexer": "ipython3",
   "version": "3.10.12"
  }
 },
 "nbformat": 4,
 "nbformat_minor": 4
}
